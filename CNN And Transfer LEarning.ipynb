{
 "cells": [
  {
   "cell_type": "markdown",
   "metadata": {},
   "source": [
    "## Creating CNN Using Scratch And Transfer Learning"
   ]
  },
  {
   "cell_type": "markdown",
   "metadata": {},
   "source": [
    "Please download the dataset from the below url"
   ]
  },
  {
   "cell_type": "code",
   "execution_count": 1,
   "metadata": {},
   "outputs": [],
   "source": [
    "# import the libraries as shown below\n",
    "\n",
    "from tensorflow.keras.layers import Input, Lambda, Dense, Flatten,Conv2D\n",
    "from tensorflow.keras.models import Model\n",
    "from tensorflow.keras.applications.vgg19 import VGG19\n",
    "from tensorflow.keras.applications.resnet50 import preprocess_input\n",
    "from tensorflow.keras.preprocessing import image\n",
    "from tensorflow.keras.preprocessing.image import ImageDataGenerator,load_img\n",
    "from tensorflow.keras.models import Sequential\n",
    "import numpy as np\n",
    "from glob import glob\n",
    "import matplotlib.pyplot as plt"
   ]
  },
  {
   "cell_type": "code",
   "execution_count": 2,
   "metadata": {},
   "outputs": [],
   "source": [
    "# re-size all the images to this\n",
    "IMAGE_SIZE = [224, 224]\n",
    "\n",
    "train_path = 'cell_images/Train'\n",
    "valid_path = 'cell_images/Test'\n"
   ]
  },
  {
   "cell_type": "code",
   "execution_count": 35,
   "metadata": {},
   "outputs": [],
   "source": [
    "# Import the Vgg 16 library as shown below and add preprocessing layer to the front of VGG\n",
    "# Here we will be using imagenet weights\n",
    "\n",
    "vgg19 = VGG19(input_shape=IMAGE_SIZE + [3], weights='imagenet', include_top=False)\n",
    "\n",
    "\n"
   ]
  },
  {
   "cell_type": "code",
   "execution_count": 36,
   "metadata": {},
   "outputs": [],
   "source": [
    "# don't train existing weights\n",
    "for layer in vgg19.layers:\n",
    "    layer.trainable = False"
   ]
  },
  {
   "cell_type": "code",
   "execution_count": 5,
   "metadata": {},
   "outputs": [],
   "source": [
    "  # useful for getting number of output classes\n",
    "folders = glob('Dataset/Train/*')"
   ]
  },
  {
   "cell_type": "code",
   "execution_count": 6,
   "metadata": {},
   "outputs": [
    {
     "data": {
      "text/plain": [
       "[]"
      ]
     },
     "execution_count": 6,
     "metadata": {},
     "output_type": "execute_result"
    }
   ],
   "source": [
    "folders"
   ]
  },
  {
   "cell_type": "code",
   "execution_count": 7,
   "metadata": {},
   "outputs": [],
   "source": [
    "# our layers - you can add more if you want\n",
    "x = Flatten()(vgg19.output)"
   ]
  },
  {
   "cell_type": "code",
   "execution_count": 8,
   "metadata": {},
   "outputs": [],
   "source": [
    "prediction = Dense(len(folders), activation='softmax')(x)\n",
    "\n",
    "# create a model object\n",
    "model = Model(inputs=vgg19.input, outputs=prediction)"
   ]
  },
  {
   "cell_type": "code",
   "execution_count": 9,
   "metadata": {},
   "outputs": [
    {
     "name": "stdout",
     "output_type": "stream",
     "text": [
      "Model: \"model\"\n",
      "_________________________________________________________________\n",
      " Layer (type)                Output Shape              Param #   \n",
      "=================================================================\n",
      " input_1 (InputLayer)        [(None, 224, 224, 3)]     0         \n",
      "                                                                 \n",
      " block1_conv1 (Conv2D)       (None, 224, 224, 64)      1792      \n",
      "                                                                 \n",
      " block1_conv2 (Conv2D)       (None, 224, 224, 64)      36928     \n",
      "                                                                 \n",
      " block1_pool (MaxPooling2D)  (None, 112, 112, 64)      0         \n",
      "                                                                 \n",
      " block2_conv1 (Conv2D)       (None, 112, 112, 128)     73856     \n",
      "                                                                 \n",
      " block2_conv2 (Conv2D)       (None, 112, 112, 128)     147584    \n",
      "                                                                 \n",
      " block2_pool (MaxPooling2D)  (None, 56, 56, 128)       0         \n",
      "                                                                 \n",
      " block3_conv1 (Conv2D)       (None, 56, 56, 256)       295168    \n",
      "                                                                 \n",
      " block3_conv2 (Conv2D)       (None, 56, 56, 256)       590080    \n",
      "                                                                 \n",
      " block3_conv3 (Conv2D)       (None, 56, 56, 256)       590080    \n",
      "                                                                 \n",
      " block3_conv4 (Conv2D)       (None, 56, 56, 256)       590080    \n",
      "                                                                 \n",
      " block3_pool (MaxPooling2D)  (None, 28, 28, 256)       0         \n",
      "                                                                 \n",
      " block4_conv1 (Conv2D)       (None, 28, 28, 512)       1180160   \n",
      "                                                                 \n",
      " block4_conv2 (Conv2D)       (None, 28, 28, 512)       2359808   \n",
      "                                                                 \n",
      " block4_conv3 (Conv2D)       (None, 28, 28, 512)       2359808   \n",
      "                                                                 \n",
      " block4_conv4 (Conv2D)       (None, 28, 28, 512)       2359808   \n",
      "                                                                 \n",
      " block4_pool (MaxPooling2D)  (None, 14, 14, 512)       0         \n",
      "                                                                 \n",
      " block5_conv1 (Conv2D)       (None, 14, 14, 512)       2359808   \n",
      "                                                                 \n",
      " block5_conv2 (Conv2D)       (None, 14, 14, 512)       2359808   \n",
      "                                                                 \n",
      " block5_conv3 (Conv2D)       (None, 14, 14, 512)       2359808   \n",
      "                                                                 \n",
      " block5_conv4 (Conv2D)       (None, 14, 14, 512)       2359808   \n",
      "                                                                 \n",
      " block5_pool (MaxPooling2D)  (None, 7, 7, 512)         0         \n",
      "                                                                 \n",
      " flatten (Flatten)           (None, 25088)             0         \n",
      "                                                                 \n",
      " dense (Dense)               (None, 0)                 0         \n",
      "                                                                 \n",
      "=================================================================\n",
      "Total params: 20,024,384\n",
      "Trainable params: 0\n",
      "Non-trainable params: 20,024,384\n",
      "_________________________________________________________________\n"
     ]
    }
   ],
   "source": [
    "\n",
    "# view the structure of the model\n",
    "model.summary()\n"
   ]
  },
  {
   "cell_type": "code",
   "execution_count": 10,
   "metadata": {},
   "outputs": [],
   "source": [
    "from tensorflow.keras.layers import MaxPooling2D"
   ]
  },
  {
   "cell_type": "code",
   "execution_count": 11,
   "metadata": {},
   "outputs": [
    {
     "name": "stdout",
     "output_type": "stream",
     "text": [
      "Model: \"sequential\"\n",
      "_________________________________________________________________\n",
      " Layer (type)                Output Shape              Param #   \n",
      "=================================================================\n",
      " conv2d (Conv2D)             (None, 224, 224, 16)      208       \n",
      "                                                                 \n",
      " max_pooling2d (MaxPooling2D  (None, 112, 112, 16)     0         \n",
      " )                                                               \n",
      "                                                                 \n",
      " conv2d_1 (Conv2D)           (None, 112, 112, 32)      2080      \n",
      "                                                                 \n",
      " max_pooling2d_1 (MaxPooling  (None, 56, 56, 32)       0         \n",
      " 2D)                                                             \n",
      "                                                                 \n",
      " conv2d_2 (Conv2D)           (None, 56, 56, 64)        8256      \n",
      "                                                                 \n",
      " max_pooling2d_2 (MaxPooling  (None, 28, 28, 64)       0         \n",
      " 2D)                                                             \n",
      "                                                                 \n",
      " flatten_1 (Flatten)         (None, 50176)             0         \n",
      "                                                                 \n",
      " dense_1 (Dense)             (None, 500)               25088500  \n",
      "                                                                 \n",
      " dense_2 (Dense)             (None, 2)                 1002      \n",
      "                                                                 \n",
      "=================================================================\n",
      "Total params: 25,100,046\n",
      "Trainable params: 25,100,046\n",
      "Non-trainable params: 0\n",
      "_________________________________________________________________\n"
     ]
    }
   ],
   "source": [
    "### Create Model from scratch using CNN\n",
    "model=Sequential()\n",
    "model.add(Conv2D(filters=16,kernel_size=2,padding=\"same\",activation=\"relu\",input_shape=(224,224,3)))\n",
    "model.add(MaxPooling2D(pool_size=2))\n",
    "model.add(Conv2D(filters=32,kernel_size=2,padding=\"same\",activation =\"relu\"))\n",
    "model.add(MaxPooling2D(pool_size=2))\n",
    "model.add(Conv2D(filters=64,kernel_size=2,padding=\"same\",activation=\"relu\"))\n",
    "model.add(MaxPooling2D(pool_size=2))\n",
    "model.add(Flatten())\n",
    "model.add(Dense(500,activation=\"relu\"))\n",
    "model.add(Dense(2,activation=\"softmax\"))\n",
    "model.summary()"
   ]
  },
  {
   "cell_type": "code",
   "execution_count": 12,
   "metadata": {},
   "outputs": [],
   "source": [
    "# tell the model what cost and optimization method to use\n",
    "model.compile(\n",
    "  loss='categorical_crossentropy',\n",
    "  optimizer='adam',\n",
    "  metrics=['accuracy']\n",
    ")\n"
   ]
  },
  {
   "cell_type": "code",
   "execution_count": 13,
   "metadata": {},
   "outputs": [],
   "source": [
    "# Use the Image Data Generator to import the images from the dataset\n",
    "from tensorflow.keras.preprocessing.image import ImageDataGenerator\n",
    "\n",
    "train_datagen = ImageDataGenerator(rescale = 1./255,\n",
    "                                   shear_range = 0.2,\n",
    "                                   zoom_range = 0.2,\n",
    "                                   horizontal_flip = True)\n",
    "\n",
    "test_datagen = ImageDataGenerator(rescale = 1./255)"
   ]
  },
  {
   "cell_type": "code",
   "execution_count": 14,
   "metadata": {},
   "outputs": [
    {
     "name": "stdout",
     "output_type": "stream",
     "text": [
      "Found 416 images belonging to 2 classes.\n"
     ]
    }
   ],
   "source": [
    "# Make sure you provide the same target size as initialied for the image size\n",
    "training_set = train_datagen.flow_from_directory('./Dataset/Dataset/Train/',\n",
    "                                                 target_size = (224, 224),\n",
    "                                                 batch_size = 32,\n",
    "                                                 class_mode = 'categorical')"
   ]
  },
  {
   "cell_type": "code",
   "execution_count": 15,
   "metadata": {},
   "outputs": [
    {
     "data": {
      "text/plain": [
       "<keras.preprocessing.image.DirectoryIterator at 0x18aca771f50>"
      ]
     },
     "execution_count": 15,
     "metadata": {},
     "output_type": "execute_result"
    }
   ],
   "source": [
    "training_set"
   ]
  },
  {
   "cell_type": "code",
   "execution_count": 16,
   "metadata": {},
   "outputs": [
    {
     "name": "stdout",
     "output_type": "stream",
     "text": [
      "Found 134 images belonging to 2 classes.\n"
     ]
    }
   ],
   "source": [
    "test_set = test_datagen.flow_from_directory('./Dataset/Dataset/Test',\n",
    "                                            target_size = (224, 224),\n",
    "                                            batch_size = 32,\n",
    "                                            class_mode = 'categorical')"
   ]
  },
  {
   "cell_type": "code",
   "execution_count": 17,
   "metadata": {
    "scrolled": true
   },
   "outputs": [
    {
     "name": "stdout",
     "output_type": "stream",
     "text": [
      "Epoch 1/50\n",
      "13/13 [==============================] - 23s 2s/step - loss: 2.0281 - accuracy: 0.4423 - val_loss: 0.6636 - val_accuracy: 0.6791\n",
      "Epoch 2/50\n",
      "13/13 [==============================] - 19s 1s/step - loss: 0.6913 - accuracy: 0.5433 - val_loss: 0.6843 - val_accuracy: 0.6791\n",
      "Epoch 3/50\n",
      "13/13 [==============================] - 19s 1s/step - loss: 0.6661 - accuracy: 0.6274 - val_loss: 0.6929 - val_accuracy: 0.5000\n",
      "Epoch 4/50\n",
      "13/13 [==============================] - 24s 2s/step - loss: 0.6191 - accuracy: 0.7067 - val_loss: 0.8686 - val_accuracy: 0.3507\n",
      "Epoch 5/50\n",
      "13/13 [==============================] - 26s 2s/step - loss: 0.5928 - accuracy: 0.7043 - val_loss: 0.7701 - val_accuracy: 0.6791\n",
      "Epoch 6/50\n",
      "13/13 [==============================] - 25s 2s/step - loss: 0.5470 - accuracy: 0.7212 - val_loss: 0.9424 - val_accuracy: 0.3582\n",
      "Epoch 7/50\n",
      "13/13 [==============================] - 26s 2s/step - loss: 0.4845 - accuracy: 0.7524 - val_loss: 0.9660 - val_accuracy: 0.2463\n",
      "Epoch 8/50\n",
      "13/13 [==============================] - 26s 2s/step - loss: 0.4859 - accuracy: 0.7596 - val_loss: 1.3274 - val_accuracy: 0.3209\n",
      "Epoch 9/50\n",
      "13/13 [==============================] - 26s 2s/step - loss: 0.4654 - accuracy: 0.7668 - val_loss: 1.1637 - val_accuracy: 0.2537\n",
      "Epoch 10/50\n",
      "13/13 [==============================] - 26s 2s/step - loss: 0.4241 - accuracy: 0.7740 - val_loss: 1.0367 - val_accuracy: 0.3806\n",
      "Epoch 11/50\n",
      "13/13 [==============================] - 26s 2s/step - loss: 0.4562 - accuracy: 0.7692 - val_loss: 1.1406 - val_accuracy: 0.4030\n",
      "Epoch 12/50\n",
      "13/13 [==============================] - 25s 2s/step - loss: 0.4528 - accuracy: 0.7716 - val_loss: 0.9938 - val_accuracy: 0.3507\n",
      "Epoch 13/50\n",
      "13/13 [==============================] - 25s 2s/step - loss: 0.4771 - accuracy: 0.7284 - val_loss: 1.1016 - val_accuracy: 0.3731\n",
      "Epoch 14/50\n",
      "13/13 [==============================] - 25s 2s/step - loss: 0.4041 - accuracy: 0.8173 - val_loss: 0.9605 - val_accuracy: 0.4104\n",
      "Epoch 15/50\n",
      "13/13 [==============================] - 25s 2s/step - loss: 0.3331 - accuracy: 0.8654 - val_loss: 0.7312 - val_accuracy: 0.5672\n",
      "Epoch 16/50\n",
      "13/13 [==============================] - 30s 2s/step - loss: 0.3131 - accuracy: 0.8822 - val_loss: 0.7561 - val_accuracy: 0.5896\n",
      "Epoch 17/50\n",
      "13/13 [==============================] - 25s 2s/step - loss: 0.2668 - accuracy: 0.9062 - val_loss: 0.8035 - val_accuracy: 0.5896\n",
      "Epoch 18/50\n",
      "13/13 [==============================] - 25s 2s/step - loss: 0.2743 - accuracy: 0.8798 - val_loss: 0.6643 - val_accuracy: 0.6567\n",
      "Epoch 19/50\n",
      "13/13 [==============================] - 27s 2s/step - loss: 0.2822 - accuracy: 0.8966 - val_loss: 0.7118 - val_accuracy: 0.5821\n",
      "Epoch 20/50\n",
      "13/13 [==============================] - 25s 2s/step - loss: 0.2390 - accuracy: 0.9111 - val_loss: 0.6068 - val_accuracy: 0.6866\n",
      "Epoch 21/50\n",
      "13/13 [==============================] - 23s 2s/step - loss: 0.2219 - accuracy: 0.9231 - val_loss: 0.5350 - val_accuracy: 0.7239\n",
      "Epoch 22/50\n",
      "13/13 [==============================] - 23s 2s/step - loss: 0.1885 - accuracy: 0.9351 - val_loss: 0.4752 - val_accuracy: 0.7687\n",
      "Epoch 23/50\n",
      "13/13 [==============================] - 23s 2s/step - loss: 0.1873 - accuracy: 0.9327 - val_loss: 0.4175 - val_accuracy: 0.8209\n",
      "Epoch 24/50\n",
      "13/13 [==============================] - 23s 2s/step - loss: 0.1488 - accuracy: 0.9519 - val_loss: 0.3699 - val_accuracy: 0.8657\n",
      "Epoch 25/50\n",
      "13/13 [==============================] - 22s 2s/step - loss: 0.1309 - accuracy: 0.9567 - val_loss: 0.3885 - val_accuracy: 0.8433\n",
      "Epoch 26/50\n",
      "13/13 [==============================] - 23s 2s/step - loss: 0.1603 - accuracy: 0.9471 - val_loss: 0.4109 - val_accuracy: 0.8209\n",
      "Epoch 27/50\n",
      "13/13 [==============================] - 23s 2s/step - loss: 0.1552 - accuracy: 0.9543 - val_loss: 0.5021 - val_accuracy: 0.7388\n",
      "Epoch 28/50\n",
      "13/13 [==============================] - 23s 2s/step - loss: 0.1453 - accuracy: 0.9495 - val_loss: 0.6876 - val_accuracy: 0.7313\n",
      "Epoch 29/50\n",
      "13/13 [==============================] - 23s 2s/step - loss: 0.1175 - accuracy: 0.9712 - val_loss: 0.4037 - val_accuracy: 0.8060\n",
      "Epoch 30/50\n",
      "13/13 [==============================] - 22s 2s/step - loss: 0.1100 - accuracy: 0.9567 - val_loss: 0.3506 - val_accuracy: 0.8582\n",
      "Epoch 31/50\n",
      "13/13 [==============================] - 23s 2s/step - loss: 0.1083 - accuracy: 0.9639 - val_loss: 0.2985 - val_accuracy: 0.8582\n",
      "Epoch 32/50\n",
      "13/13 [==============================] - 23s 2s/step - loss: 0.1108 - accuracy: 0.9663 - val_loss: 0.4142 - val_accuracy: 0.8582\n",
      "Epoch 33/50\n",
      "13/13 [==============================] - 22s 2s/step - loss: 0.1331 - accuracy: 0.9519 - val_loss: 0.3160 - val_accuracy: 0.8582\n",
      "Epoch 34/50\n",
      "13/13 [==============================] - 22s 2s/step - loss: 0.1021 - accuracy: 0.9663 - val_loss: 0.2636 - val_accuracy: 0.8881\n",
      "Epoch 35/50\n",
      "13/13 [==============================] - 23s 2s/step - loss: 0.0904 - accuracy: 0.9736 - val_loss: 0.2405 - val_accuracy: 0.9030\n",
      "Epoch 36/50\n",
      "13/13 [==============================] - 23s 2s/step - loss: 0.0892 - accuracy: 0.9760 - val_loss: 0.2681 - val_accuracy: 0.8881\n",
      "Epoch 37/50\n",
      "13/13 [==============================] - 23s 2s/step - loss: 0.1103 - accuracy: 0.9639 - val_loss: 0.3407 - val_accuracy: 0.8507\n",
      "Epoch 38/50\n",
      "13/13 [==============================] - 23s 2s/step - loss: 0.1042 - accuracy: 0.9639 - val_loss: 0.3368 - val_accuracy: 0.8582\n",
      "Epoch 39/50\n",
      "13/13 [==============================] - 23s 2s/step - loss: 0.1646 - accuracy: 0.9519 - val_loss: 0.9588 - val_accuracy: 0.6642\n",
      "Epoch 40/50\n",
      "13/13 [==============================] - 23s 2s/step - loss: 0.1743 - accuracy: 0.9303 - val_loss: 0.4413 - val_accuracy: 0.8060\n",
      "Epoch 41/50\n",
      "13/13 [==============================] - 23s 2s/step - loss: 0.1382 - accuracy: 0.9567 - val_loss: 0.2860 - val_accuracy: 0.8657\n",
      "Epoch 42/50\n",
      "13/13 [==============================] - 23s 2s/step - loss: 0.0772 - accuracy: 0.9736 - val_loss: 0.2363 - val_accuracy: 0.9104\n",
      "Epoch 43/50\n",
      "13/13 [==============================] - 23s 2s/step - loss: 0.0632 - accuracy: 0.9760 - val_loss: 0.1959 - val_accuracy: 0.9254\n",
      "Epoch 44/50\n",
      "13/13 [==============================] - 23s 2s/step - loss: 0.0659 - accuracy: 0.9832 - val_loss: 0.3177 - val_accuracy: 0.8731\n",
      "Epoch 45/50\n",
      "13/13 [==============================] - 23s 2s/step - loss: 0.0645 - accuracy: 0.9784 - val_loss: 0.3460 - val_accuracy: 0.8582\n",
      "Epoch 46/50\n",
      "13/13 [==============================] - 23s 2s/step - loss: 0.0751 - accuracy: 0.9832 - val_loss: 0.3311 - val_accuracy: 0.8582\n",
      "Epoch 47/50\n",
      "13/13 [==============================] - 22s 2s/step - loss: 0.0451 - accuracy: 0.9832 - val_loss: 0.1994 - val_accuracy: 0.9254\n",
      "Epoch 48/50\n",
      "13/13 [==============================] - 23s 2s/step - loss: 0.0485 - accuracy: 0.9832 - val_loss: 0.2884 - val_accuracy: 0.8657\n",
      "Epoch 49/50\n",
      "13/13 [==============================] - 23s 2s/step - loss: 0.0535 - accuracy: 0.9880 - val_loss: 0.3424 - val_accuracy: 0.8806\n",
      "Epoch 50/50\n",
      "13/13 [==============================] - 23s 2s/step - loss: 0.0443 - accuracy: 0.9904 - val_loss: 0.2758 - val_accuracy: 0.8955\n"
     ]
    }
   ],
   "source": [
    "# fit the model\n",
    "# Run the cell. It will take some time to execute\n",
    "\n",
    "r = model.fit(\n",
    "  training_set,\n",
    "  validation_data=test_set,\n",
    "  epochs=50,\n",
    "  steps_per_epoch=len(training_set),\n",
    "  validation_steps=len(test_set)\n",
    ")"
   ]
  },
  {
   "cell_type": "code",
   "execution_count": 18,
   "metadata": {},
   "outputs": [
    {
     "data": {
      "image/png": "[encoded data removed]",
      "text/plain": [
       "<Figure size 640x480 with 1 Axes>"
      ]
     },
     "metadata": {},
     "output_type": "display_data"
    },
    {
     "data": {
      "image/png": "[encoded data removed]",
      "text/plain": [
       "<Figure size 640x480 with 1 Axes>"
      ]
     },
     "metadata": {},
     "output_type": "display_data"
    },
    {
     "data": {
      "text/plain": [
       "<Figure size 640x480 with 0 Axes>"
      ]
     },
     "metadata": {},
     "output_type": "display_data"
    }
   ],
   "source": [
    "# plot the loss\n",
    "plt.plot(r.history['loss'], label='train loss')\n",
    "plt.plot(r.history['val_loss'], label='val loss')\n",
    "plt.legend()\n",
    "plt.show()\n",
    "plt.savefig('LossVal_loss')\n",
    "\n",
    "# plot the accuracy\n",
    "plt.plot(r.history['accuracy'], label='train acc')\n",
    "plt.plot(r.history['val_accuracy'], label='val acc')\n",
    "plt.legend()\n",
    "plt.show()\n",
    "plt.savefig('AccVal_acc')"
   ]
  },
  {
   "cell_type": "code",
   "execution_count": 19,
   "metadata": {},
   "outputs": [],
   "source": [
    "# save it as a h5 file\n",
    "\n",
    "\n",
    "from tensorflow.keras.models import load_model\n",
    "\n",
    "model.save('model_vgg19.h5')"
   ]
  },
  {
   "cell_type": "code",
   "execution_count": 20,
   "metadata": {},
   "outputs": [
    {
     "name": "stdout",
     "output_type": "stream",
     "text": [
      "5/5 [==============================] - 2s 229ms/step\n"
     ]
    }
   ],
   "source": [
    "\n",
    "y_pred = model.predict(test_set)\n"
   ]
  },
  {
   "cell_type": "code",
   "execution_count": 21,
   "metadata": {},
   "outputs": [
    {
     "data": {
      "text/plain": [
       "array([[4.31347609e-01, 5.68652391e-01],\n",
       "       [9.97116685e-01, 2.88332300e-03],\n",
       "       [9.98460174e-01, 1.53985375e-03],\n",
       "       [9.88147199e-01, 1.18527794e-02],\n",
       "       [9.99874830e-01, 1.25104198e-04],\n",
       "       [1.85624566e-02, 9.81437564e-01],\n",
       "       [6.99986005e-03, 9.93000150e-01],\n",
       "       [4.74330038e-02, 9.52566981e-01],\n",
       "       [9.99600708e-01, 3.99298384e-04],\n",
       "       [1.00000000e+00, 3.51225324e-08],\n",
       "       [1.00000000e+00, 5.43393170e-08],\n",
       "       [1.87890455e-02, 9.81210947e-01],\n",
       "       [9.99142170e-01, 8.57791572e-04],\n",
       "       [9.99698043e-01, 3.01943655e-04],\n",
       "       [1.97051466e-02, 9.80294883e-01],\n",
       "       [9.99523878e-01, 4.76110436e-04],\n",
       "       [9.99049485e-01, 9.50487680e-04],\n",
       "       [5.66668529e-03, 9.94333267e-01],\n",
       "       [9.89787698e-01, 1.02123227e-02],\n",
       "       [9.99997616e-01, 2.39675637e-06],\n",
       "       [2.58694857e-01, 7.41305113e-01],\n",
       "       [9.89622712e-01, 1.03773596e-02],\n",
       "       [1.67288054e-02, 9.83271182e-01],\n",
       "       [9.99997973e-01, 2.07534436e-06],\n",
       "       [1.34107731e-02, 9.86589193e-01],\n",
       "       [9.98612523e-01, 1.38740684e-03],\n",
       "       [4.64478135e-03, 9.95355248e-01],\n",
       "       [4.09417711e-02, 9.59058225e-01],\n",
       "       [9.99111474e-01, 8.88561539e-04],\n",
       "       [9.96040940e-01, 3.95903457e-03],\n",
       "       [1.92632712e-02, 9.80736732e-01],\n",
       "       [9.95247185e-01, 4.75278590e-03],\n",
       "       [1.87405366e-02, 9.81259525e-01],\n",
       "       [4.22223471e-02, 9.57777619e-01],\n",
       "       [5.53288311e-02, 9.44671154e-01],\n",
       "       [7.23544182e-03, 9.92764533e-01],\n",
       "       [9.43004966e-01, 5.69950268e-02],\n",
       "       [6.01678155e-02, 9.39832270e-01],\n",
       "       [1.00000000e+00, 1.18549559e-10],\n",
       "       [9.99992251e-01, 7.77326568e-06],\n",
       "       [5.62579811e-01, 4.37420249e-01],\n",
       "       [5.97851396e-01, 4.02148575e-01],\n",
       "       [5.75815439e-01, 4.24184561e-01],\n",
       "       [5.17491391e-03, 9.94825125e-01],\n",
       "       [9.54992846e-02, 9.04500663e-01],\n",
       "       [9.68838215e-01, 3.11617479e-02],\n",
       "       [9.99362051e-01, 6.37899386e-04],\n",
       "       [9.99802411e-01, 1.97561603e-04],\n",
       "       [9.99947309e-01, 5.26532276e-05],\n",
       "       [2.93389857e-02, 9.70661044e-01],\n",
       "       [6.91009760e-02, 9.30898964e-01],\n",
       "       [8.54611676e-03, 9.91453886e-01],\n",
       "       [9.97915328e-01, 2.08471692e-03],\n",
       "       [9.99914408e-01, 8.55391118e-05],\n",
       "       [8.97164345e-01, 1.02835633e-01],\n",
       "       [2.54710000e-02, 9.74528968e-01],\n",
       "       [9.99562800e-01, 4.37159761e-04],\n",
       "       [9.98851776e-01, 1.14819035e-03],\n",
       "       [9.99175847e-01, 8.24169896e-04],\n",
       "       [9.99233723e-01, 7.66241690e-04],\n",
       "       [9.92428005e-01, 7.57192867e-03],\n",
       "       [9.99906898e-01, 9.30865281e-05],\n",
       "       [9.98319089e-01, 1.68087846e-03],\n",
       "       [1.45298829e-02, 9.85470057e-01],\n",
       "       [1.00000000e+00, 9.65280217e-11],\n",
       "       [9.99990940e-01, 9.04812805e-06],\n",
       "       [8.97661567e-01, 1.02338433e-01],\n",
       "       [9.98778164e-01, 1.22177228e-03],\n",
       "       [3.37329251e-03, 9.96626735e-01],\n",
       "       [5.06864488e-01, 4.93135571e-01],\n",
       "       [9.99037504e-01, 9.62574384e-04],\n",
       "       [5.03007844e-02, 9.49699223e-01],\n",
       "       [1.21334270e-02, 9.87866521e-01],\n",
       "       [6.22627698e-03, 9.93773699e-01],\n",
       "       [2.20231954e-02, 9.77976859e-01],\n",
       "       [9.96983469e-01, 3.01649049e-03],\n",
       "       [2.97306720e-02, 9.70269322e-01],\n",
       "       [9.95714486e-01, 4.28544777e-03],\n",
       "       [1.18142506e-02, 9.88185763e-01],\n",
       "       [9.99545276e-01, 4.54721245e-04],\n",
       "       [1.10062547e-02, 9.88993704e-01],\n",
       "       [5.56818664e-01, 4.43181366e-01],\n",
       "       [5.72802220e-03, 9.94271994e-01],\n",
       "       [4.27596986e-01, 5.72403014e-01],\n",
       "       [9.99984741e-01, 1.52047369e-05],\n",
       "       [9.99999404e-01, 6.06052026e-07],\n",
       "       [9.99586165e-01, 4.13899077e-04],\n",
       "       [1.82096902e-02, 9.81790304e-01],\n",
       "       [9.99985337e-01, 1.46681150e-05],\n",
       "       [9.98622775e-01, 1.37725507e-03],\n",
       "       [4.27598879e-03, 9.95723963e-01],\n",
       "       [9.84759748e-01, 1.52402474e-02],\n",
       "       [9.99995828e-01, 4.19916387e-06],\n",
       "       [9.99993920e-01, 6.12573967e-06],\n",
       "       [9.96840239e-01, 3.15975351e-03],\n",
       "       [9.94181097e-01, 5.81889227e-03],\n",
       "       [9.99999881e-01, 1.42083962e-07],\n",
       "       [2.51236930e-02, 9.74876344e-01],\n",
       "       [9.99308109e-01, 6.91857538e-04],\n",
       "       [9.97812867e-01, 2.18704925e-03],\n",
       "       [9.99928236e-01, 7.17407820e-05],\n",
       "       [1.00000000e+00, 1.49437526e-12],\n",
       "       [9.95484710e-01, 4.51525906e-03],\n",
       "       [9.99988556e-01, 1.14239901e-05],\n",
       "       [3.00823659e-01, 6.99176371e-01],\n",
       "       [5.12409993e-02, 9.48758960e-01],\n",
       "       [8.17812234e-03, 9.91821826e-01],\n",
       "       [9.99823749e-01, 1.76262300e-04],\n",
       "       [1.13893025e-01, 8.86106968e-01],\n",
       "       [9.97191761e-03, 9.90028083e-01],\n",
       "       [9.99583900e-01, 4.16047842e-04],\n",
       "       [9.93936241e-01, 6.06378168e-03],\n",
       "       [9.98835742e-01, 1.16422109e-03],\n",
       "       [9.99401212e-01, 5.98773244e-04],\n",
       "       [1.23044783e-02, 9.87695575e-01],\n",
       "       [1.00000000e+00, 1.94102677e-12],\n",
       "       [1.00000000e+00, 6.17770765e-12],\n",
       "       [9.96137321e-01, 3.86266643e-03],\n",
       "       [9.04402696e-03, 9.90956008e-01],\n",
       "       [5.59003884e-03, 9.94409978e-01],\n",
       "       [9.99998808e-01, 1.24369853e-06],\n",
       "       [2.17217088e-01, 7.82782912e-01],\n",
       "       [6.95605457e-01, 3.04394573e-01],\n",
       "       [8.45706370e-03, 9.91542935e-01],\n",
       "       [1.18823489e-02, 9.88117635e-01],\n",
       "       [4.69636232e-01, 5.30363798e-01],\n",
       "       [9.99975681e-01, 2.43364666e-05],\n",
       "       [4.60600257e-02, 9.53940034e-01],\n",
       "       [1.34108618e-01, 8.65891397e-01],\n",
       "       [2.44686119e-02, 9.75531399e-01],\n",
       "       [5.45122568e-03, 9.94548738e-01],\n",
       "       [9.99253929e-01, 7.45999801e-04],\n",
       "       [9.97251213e-01, 2.74880999e-03],\n",
       "       [1.77750196e-02, 9.82225001e-01]], dtype=float32)"
      ]
     },
     "execution_count": 21,
     "metadata": {},
     "output_type": "execute_result"
    }
   ],
   "source": [
    "y_pred"
   ]
  },
  {
   "cell_type": "code",
   "execution_count": 22,
   "metadata": {},
   "outputs": [],
   "source": [
    "import numpy as np\n",
    "y_pred = np.argmax(y_pred, axis=1)"
   ]
  },
  {
   "cell_type": "code",
   "execution_count": 23,
   "metadata": {},
   "outputs": [
    {
     "data": {
      "text/plain": [
       "array([1, 0, 0, 0, 0, 1, 1, 1, 0, 0, 0, 1, 0, 0, 1, 0, 0, 1, 0, 0, 1, 0,\n",
       "       1, 0, 1, 0, 1, 1, 0, 0, 1, 0, 1, 1, 1, 1, 0, 1, 0, 0, 0, 0, 0, 1,\n",
       "       1, 0, 0, 0, 0, 1, 1, 1, 0, 0, 0, 1, 0, 0, 0, 0, 0, 0, 0, 1, 0, 0,\n",
       "       0, 0, 1, 0, 0, 1, 1, 1, 1, 0, 1, 0, 1, 0, 1, 0, 1, 1, 0, 0, 0, 1,\n",
       "       0, 0, 1, 0, 0, 0, 0, 0, 0, 1, 0, 0, 0, 0, 0, 0, 1, 1, 1, 0, 1, 1,\n",
       "       0, 0, 0, 0, 1, 0, 0, 0, 1, 1, 0, 1, 0, 1, 1, 1, 0, 1, 1, 1, 1, 0,\n",
       "       0, 1], dtype=int64)"
      ]
     },
     "execution_count": 23,
     "metadata": {},
     "output_type": "execute_result"
    }
   ],
   "source": [
    "y_pred"
   ]
  },
  {
   "cell_type": "code",
   "execution_count": 24,
   "metadata": {},
   "outputs": [],
   "source": [
    "from tensorflow.keras.models import load_model\n",
    "from tensorflow.keras.preprocessing import image"
   ]
  },
  {
   "cell_type": "code",
   "execution_count": 25,
   "metadata": {},
   "outputs": [],
   "source": [
    "model=load_model('model_vgg19.h5')"
   ]
  },
  {
   "cell_type": "code",
   "execution_count": 26,
   "metadata": {},
   "outputs": [],
   "source": [
    "img=image.load_img('./Dataset/Dataset/Test/Uninfected/2.png',target_size=(224,224))\n",
    "\n"
   ]
  },
  {
   "cell_type": "code",
   "execution_count": 27,
   "metadata": {},
   "outputs": [
    {
     "data": {
      "text/plain": [
       "array([[[0., 0., 0.],\n",
       "        [0., 0., 0.],\n",
       "        [0., 0., 0.],\n",
       "        ...,\n",
       "        [0., 0., 0.],\n",
       "        [0., 0., 0.],\n",
       "        [0., 0., 0.]],\n",
       "\n",
       "       [[0., 0., 0.],\n",
       "        [0., 0., 0.],\n",
       "        [0., 0., 0.],\n",
       "        ...,\n",
       "        [0., 0., 0.],\n",
       "        [0., 0., 0.],\n",
       "        [0., 0., 0.]],\n",
       "\n",
       "       [[0., 0., 0.],\n",
       "        [0., 0., 0.],\n",
       "        [0., 0., 0.],\n",
       "        ...,\n",
       "        [0., 0., 0.],\n",
       "        [0., 0., 0.],\n",
       "        [0., 0., 0.]],\n",
       "\n",
       "       ...,\n",
       "\n",
       "       [[0., 0., 0.],\n",
       "        [0., 0., 0.],\n",
       "        [0., 0., 0.],\n",
       "        ...,\n",
       "        [0., 0., 0.],\n",
       "        [0., 0., 0.],\n",
       "        [0., 0., 0.]],\n",
       "\n",
       "       [[0., 0., 0.],\n",
       "        [0., 0., 0.],\n",
       "        [0., 0., 0.],\n",
       "        ...,\n",
       "        [0., 0., 0.],\n",
       "        [0., 0., 0.],\n",
       "        [0., 0., 0.]],\n",
       "\n",
       "       [[0., 0., 0.],\n",
       "        [0., 0., 0.],\n",
       "        [0., 0., 0.],\n",
       "        ...,\n",
       "        [0., 0., 0.],\n",
       "        [0., 0., 0.],\n",
       "        [0., 0., 0.]]], dtype=float32)"
      ]
     },
     "execution_count": 27,
     "metadata": {},
     "output_type": "execute_result"
    }
   ],
   "source": [
    "x=image.img_to_array(img)\n",
    "x"
   ]
  },
  {
   "cell_type": "code",
   "execution_count": 28,
   "metadata": {},
   "outputs": [
    {
     "data": {
      "text/plain": [
       "(224, 224, 3)"
      ]
     },
     "execution_count": 28,
     "metadata": {},
     "output_type": "execute_result"
    }
   ],
   "source": [
    "x.shape"
   ]
  },
  {
   "cell_type": "code",
   "execution_count": 29,
   "metadata": {},
   "outputs": [],
   "source": [
    "x=x/255"
   ]
  },
  {
   "cell_type": "code",
   "execution_count": 30,
   "metadata": {},
   "outputs": [
    {
     "data": {
      "text/plain": [
       "(1, 224, 224, 3)"
      ]
     },
     "execution_count": 30,
     "metadata": {},
     "output_type": "execute_result"
    }
   ],
   "source": [
    "x=np.expand_dims(x,axis=0)\n",
    "img_data=preprocess_input(x)\n",
    "img_data.shape"
   ]
  },
  {
   "cell_type": "code",
   "execution_count": 31,
   "metadata": {},
   "outputs": [
    {
     "name": "stdout",
     "output_type": "stream",
     "text": [
      "1/1 [==============================] - 0s 314ms/step\n"
     ]
    },
    {
     "data": {
      "text/plain": [
       "array([[1., 0.]], dtype=float32)"
      ]
     },
     "execution_count": 31,
     "metadata": {},
     "output_type": "execute_result"
    }
   ],
   "source": [
    "model.predict(img_data)"
   ]
  },
  {
   "cell_type": "code",
   "execution_count": 32,
   "metadata": {},
   "outputs": [
    {
     "name": "stdout",
     "output_type": "stream",
     "text": [
      "1/1 [==============================] - 0s 88ms/step\n"
     ]
    }
   ],
   "source": [
    "a=np.argmax(model.predict(img_data), axis=1)"
   ]
  },
  {
   "cell_type": "code",
   "execution_count": 33,
   "metadata": {},
   "outputs": [
    {
     "name": "stdout",
     "output_type": "stream",
     "text": [
      "Infected\n"
     ]
    }
   ],
   "source": [
    "if(a==1):\n",
    "    print(\"Uninfected\")\n",
    "else:\n",
    "    print(\"Infected\")"
   ]
  }
 ],
 "metadata": {
  "kernelspec": {
   "display_name": "Python 3",
   "language": "python",
   "name": "python3"
  },
  "language_info": {
   "codemirror_mode": {
    "name": "ipython",
    "version": 3
   },
   "file_extension": ".py",
   "mimetype": "text/x-python",
   "name": "python",
   "nbconvert_exporter": "python",
   "pygments_lexer": "ipython3",
   "version": "3.11.3"
  }
 },
 "nbformat": 4,
 "nbformat_minor": 2
}
